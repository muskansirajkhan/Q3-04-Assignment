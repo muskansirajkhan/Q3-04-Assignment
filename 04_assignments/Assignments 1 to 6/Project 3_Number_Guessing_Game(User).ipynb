{
  "nbformat": 4,
  "nbformat_minor": 0,
  "metadata": {
    "colab": {
      "provenance": []
    },
    "kernelspec": {
      "name": "python3",
      "display_name": "Python 3"
    },
    "language_info": {
      "name": "python"
    }
  },
  "cells": [
    {
      "cell_type": "markdown",
      "source": [
        "# **Number Guessing Game (User)!**"
      ],
      "metadata": {
        "id": "-CER15c5gTNd"
      }
    },
    {
      "cell_type": "code",
      "source": [
        "import random\n",
        "\n",
        "random_number = random.randint(1, 100)\n",
        "print(f\"Check random number: {random_number}\")  #check random number here\n",
        "\n",
        "print(\"Welcome to the Number Guessing Game!\\n\")\n",
        "print(\"I'm thinking of a number between 1 and 100.\\n\")\n",
        "\n",
        "while True:  # Loop until the correct number is guessed\n",
        "    guess_number = int(input(\"Guess the number between 1 and 100: \"))\n",
        "\n",
        "    if guess_number < random_number:\n",
        "        print(\"Your guess is too low. Try again.\")\n",
        "    elif guess_number > random_number:\n",
        "        print(\"Your guess is too high. Try again.\")\n",
        "    else:\n",
        "        print(f\"🎉 Congratulations! You guessed the correct number: {random_number} 🎉\")\n",
        "        break  # Exit the loop when guessed correctly\n"
      ],
      "metadata": {
        "colab": {
          "base_uri": "https://localhost:8080/"
        },
        "id": "oh6CeeJXgd5x",
        "outputId": "275a3d8e-fa3e-4491-8862-90a69422c434"
      },
      "execution_count": 33,
      "outputs": [
        {
          "output_type": "stream",
          "name": "stdout",
          "text": [
            "Check random number: 85\n",
            "Welcome to the Number Guessing Game!\n",
            "\n",
            "I'm thinking of a number between 1 and 100.\n",
            "\n",
            "Guess the number between 1 and 100: 900\n",
            "Your guess is too high. Try again.\n",
            "Guess the number between 1 and 100: 0\n",
            "Your guess is too low. Try again.\n",
            "Guess the number between 1 and 100: 85\n",
            "🎉 Congratulations! You guessed the correct number: 85 🎉\n"
          ]
        }
      ]
    }
  ]
}