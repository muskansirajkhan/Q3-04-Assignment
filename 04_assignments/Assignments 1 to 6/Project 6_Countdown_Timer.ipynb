{
  "cells": [
    {
      "cell_type": "markdown",
      "metadata": {
        "id": "ZziWBHgtJb4w"
      },
      "source": [
        "# **Countdown Timer!**"
      ]
    },
    {
      "cell_type": "code",
      "execution_count": null,
      "metadata": {
        "colab": {
          "base_uri": "https://localhost:8080/"
        },
        "id": "_jD75IZ4Jir_",
        "outputId": "6c668b61-3b3a-4d07-c07c-cd8740c7fb01"
      },
      "outputs": [
        {
          "name": "stdout",
          "output_type": "stream",
          "text": [
            "Enter the time in seconds: 3\n",
            "3\n",
            "2\n",
            "1\n",
            "Time's Up!\n"
          ]
        }
      ],
      "source": [
        "import time\n",
        "\n",
        "count_time = int(input(\"Enter the time in seconds: \"))\n",
        "\n",
        "for x in range(count_time, 0, -1):\n",
        "  print(x)\n",
        "  time.sleep(1)\n",
        "\n",
        "print(\"Time's Up!\")"
      ]
    }
  ],
  "metadata": {
    "colab": {
      "provenance": []
    },
    "kernelspec": {
      "display_name": "Python 3",
      "name": "python3"
    },
    "language_info": {
      "name": "python"
    }
  },
  "nbformat": 4,
  "nbformat_minor": 0
}
