{
  "nbformat": 4,
  "nbformat_minor": 0,
  "metadata": {
    "colab": {
      "provenance": []
    },
    "kernelspec": {
      "name": "python3",
      "display_name": "Python 3"
    },
    "language_info": {
      "name": "python"
    }
  },
  "cells": [
    {
      "cell_type": "markdown",
      "source": [
        "# **Hangman Game!**"
      ],
      "metadata": {
        "id": "KD5wLPBgQhVH"
      }
    },
    {
      "cell_type": "code",
      "source": [
        "import random\n",
        "\n",
        "words = [\"enum\", \"python\", \"vscode\", \"colab\", \"game\"]\n",
        "\n",
        "word = random.choice(words)\n",
        "guessed_letters = []\n",
        "attempts = 6\n",
        "print(\"Welcome to the Hangman game!\")\n",
        "print(\"_ \" * len(word))\n",
        "\n",
        "while attempts > 0:\n",
        "    guess = input(\"\\nPlease guess a letter: \").lower()\n",
        "\n",
        "    if len(guess) != 1 or not guess.isalpha():\n",
        "        print(\"Enter one alphabet only!\")\n",
        "        continue\n",
        "\n",
        "    if guess in guessed_letters:\n",
        "        print(\"You already guessed that letter.\")\n",
        "        continue\n",
        "\n",
        "    guessed_letters.append(guess)\n",
        "\n",
        "    if guess in word:\n",
        "        print(\"Correct guess!\")\n",
        "    else:\n",
        "        attempts -= 1\n",
        "        print(f\"Wrong guess! You have {attempts} attempts left.\")\n",
        "\n",
        "    displayed_word = \" \".join([letter if letter in guessed_letters else \"_\" for letter in word])\n",
        "    print(displayed_word)\n",
        "\n",
        "    if \"_\" not in displayed_word:\n",
        "        print(\"🎉 Congratulations! You won! 🎉\")\n",
        "        break\n",
        "\n",
        "if attempts == 0:\n",
        "    print(f\"Game Over! The correct word was: {word}\")\n"
      ],
      "metadata": {
        "colab": {
          "base_uri": "https://localhost:8080/"
        },
        "id": "-FtQYh5EQpNH",
        "outputId": "13817512-7afd-4a5e-8950-c76c2005d3cd"
      },
      "execution_count": null,
      "outputs": [
        {
          "output_type": "stream",
          "name": "stdout",
          "text": [
            "Welcome to the Hangman game!\n",
            "_ _ _ _ \n",
            "\n",
            "Please guess a letter: p\n",
            "Wrong guess! You have 5 attempts left.\n",
            "_ _ _ _\n",
            "\n",
            "Please guess a letter: c\n",
            "Wrong guess! You have 4 attempts left.\n",
            "_ _ _ _\n",
            "\n",
            "Please guess a letter: e\n",
            "Correct guess!\n",
            "e _ _ _\n",
            "\n",
            "Please guess a letter: k\n",
            "Wrong guess! You have 3 attempts left.\n",
            "e _ _ _\n",
            "\n",
            "Please guess a letter: ;\n",
            "Enter one alphabet only!\n",
            "\n",
            "Please guess a letter: n\n",
            "Correct guess!\n",
            "e n _ _\n",
            "\n",
            "Please guess a letter: n\n",
            "You already guessed that letter.\n",
            "\n",
            "Please guess a letter: kl\n",
            "Enter one alphabet only!\n",
            "\n",
            "Please guess a letter: nk'\n",
            "Enter one alphabet only!\n",
            "\n",
            "Please guess a letter: nnn\n",
            "Enter one alphabet only!\n",
            "\n",
            "Please guess a letter: \n",
            "Enter one alphabet only!\n",
            "\n",
            "Please guess a letter: \n",
            "Enter one alphabet only!\n"
          ]
        }
      ]
    }
  ]
}