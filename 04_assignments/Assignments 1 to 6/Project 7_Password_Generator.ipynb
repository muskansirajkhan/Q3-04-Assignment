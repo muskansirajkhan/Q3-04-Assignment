{
  "nbformat": 4,
  "nbformat_minor": 0,
  "metadata": {
    "colab": {
      "provenance": []
    },
    "kernelspec": {
      "name": "python3",
      "display_name": "Python 3"
    },
    "language_info": {
      "name": "python"
    }
  },
  "cells": [
    {
      "cell_type": "markdown",
      "source": [
        "# **Password Generator!**"
      ],
      "metadata": {
        "id": "g2ABIVZYQIqt"
      }
    },
    {
      "cell_type": "code",
      "source": [
        "import random\n",
        "\n",
        "print(\"Welcome to Your Password Generator! \")\n",
        "\n",
        "chars  = \"abcdefghijklmnopqrstuvwxyzABCDEFGHIJKLMNOPQRSTUVWXYZ!@#$%^&*().,?0123456789\"\n",
        "\n",
        "number = int(input(\"Ammount of password to generate: \"))\n",
        "\n",
        "length = int(input(\"Enter your password length: \"))\n",
        "\n",
        "print(\"\\nHere are your passwords: \")\n",
        "\n",
        "for pwd in range(number):\n",
        "  passwords = \"\"\n",
        "  for c in range(length):\n",
        "    passwords += random.choice(chars)\n",
        "  print(passwords)"
      ],
      "metadata": {
        "colab": {
          "base_uri": "https://localhost:8080/"
        },
        "id": "jLj_KaUzQRiK",
        "outputId": "d2f86e26-36f2-4bd1-e7aa-a33d98905923"
      },
      "execution_count": 3,
      "outputs": [
        {
          "output_type": "stream",
          "name": "stdout",
          "text": [
            "Welcome to Your Password Generator! \n",
            "Ammount of password to generate: 3\n",
            "Enter your password length: 6\n",
            "\n",
            "Here are your passwords: \n",
            "Fb$p*T\n",
            ")1mvR%\n",
            "c9PrBK\n"
          ]
        }
      ]
    }
  ]
}