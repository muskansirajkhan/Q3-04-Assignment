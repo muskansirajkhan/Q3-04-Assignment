{
  "nbformat": 4,
  "nbformat_minor": 0,
  "metadata": {
    "colab": {
      "provenance": []
    },
    "kernelspec": {
      "name": "python3",
      "display_name": "Python 3"
    },
    "language_info": {
      "name": "python"
    }
  },
  "cells": [
    {
      "cell_type": "markdown",
      "source": [
        "# **Rock, paper, scissors Game!**\n",
        "\n",
        "\n"
      ],
      "metadata": {
        "id": "wua1I4h6jkuJ"
      }
    },
    {
      "cell_type": "code",
      "source": [
        "import random\n",
        "\n",
        "options = (\"rock\", \"paper\", \"scissors\")\n",
        "player = None\n",
        "\n",
        "computer = random.choice(options)\n",
        "\n",
        "while player not in options:\n",
        "    player = input(\"Enter a choice (rock, paper, scissors): \")\n",
        "\n",
        "print(f\"Player: {player}\")\n",
        "print(f\"Computer: {computer}\")"
      ],
      "metadata": {
        "colab": {
          "base_uri": "https://localhost:8080/"
        },
        "id": "0pl0SLNBj6Jo",
        "outputId": "b2da8afe-174d-44e1-8604-f50f5cefd9f3"
      },
      "execution_count": 1,
      "outputs": [
        {
          "output_type": "stream",
          "name": "stdout",
          "text": [
            "Enter a choice (rock, paper, scissors): scissors\n",
            "Player: scissors\n",
            "Computer: paper\n"
          ]
        }
      ]
    }
  ]
}