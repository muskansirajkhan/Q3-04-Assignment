{
  "cells": [
    {
      "cell_type": "markdown",
      "metadata": {
        "id": "Up23vN93QdBQ"
      },
      "source": [
        "# **Play Madlibs Game**"
      ]
    },
    {
      "cell_type": "code",
      "execution_count": null,
      "metadata": {
        "colab": {
          "base_uri": "https://localhost:8080/"
        },
        "id": "qpmjSJTrQv-d",
        "outputId": "8a8884e7-09d8-410e-8928-d5497b96fa2e"
      },
      "outputs": [
        {
          "name": "stdout",
          "output_type": "stream",
          "text": [
            "Enter a past tense verb: went\n",
            "Enter a plural noun: elephants\n",
            "Enter an adjective (description): colorful\n",
            "\n",
            "Welcome to the word game! Fill in the blanks to complete a fun story.\n",
            "\n",
            "Today, I went to the zoo.\n",
            "I saw elephants there.\n",
            "A peacock was very colorful.\n"
          ]
        }
      ],
      "source": [
        "# Word game where you create a story by filling in blanks with random words:\n",
        "\n",
        "verb = input(\"Enter a past tense verb: \")\n",
        "noun = input(\"Enter a plural noun: \")\n",
        "adjective = input(\"Enter an adjective (description): \")\n",
        "\n",
        "print(\"\\nWelcome to the word game! Fill in the blanks to complete a fun story.\\n\")\n",
        "print(f\"Today, I {verb} to the zoo.\")\n",
        "print(f\"I saw {noun} there.\")\n",
        "print(f\"A peacock was very {adjective}.\")\n"
      ]
    }
  ],
  "metadata": {
    "colab": {
      "provenance": []
    },
    "kernelspec": {
      "display_name": "Python 3",
      "name": "python3"
    },
    "language_info": {
      "name": "python"
    }
  },
  "nbformat": 4,
  "nbformat_minor": 0
}
