{
  "nbformat": 4,
  "nbformat_minor": 0,
  "metadata": {
    "colab": {
      "provenance": []
    },
    "kernelspec": {
      "name": "python3",
      "display_name": "Python 3"
    },
    "language_info": {
      "name": "python"
    }
  },
  "cells": [
    {
      "cell_type": "markdown",
      "source": [
        "# **Number Guessing Game (Computer)**"
      ],
      "metadata": {
        "id": "AOMZOHmMWJln"
      }
    },
    {
      "cell_type": "code",
      "source": [
        "def computer_guesses():\n",
        "    low, high = 1, 100\n",
        "    print(\"Think of a number between 1 and 100, and I'll guess it!\")\n",
        "\n",
        "    while low <= high:\n",
        "        guess = (low + high) // 2  # Binary search approach\n",
        "        response = input(f\"Is it {guess}? (too high / too low / correct): \").lower()\n",
        "\n",
        "        if response == \"too high\":\n",
        "            high = guess - 1\n",
        "        elif response == \"too low\":\n",
        "            low = guess + 1\n",
        "        elif response == \"correct\":\n",
        "            print(f\"Yay! I guessed your number: {guess}\")\n",
        "            return\n",
        "        else:\n",
        "            print(\"Invalid response. Please type 'too high', 'too low', or 'correct'.\")\n",
        "\n",
        "computer_guesses()\n",
        "\n",
        "\n"
      ],
      "metadata": {
        "colab": {
          "base_uri": "https://localhost:8080/"
        },
        "id": "OWwwsTtRWaX3",
        "outputId": "4576eaf6-4eed-4728-9801-7b6db2a58564"
      },
      "execution_count": 7,
      "outputs": [
        {
          "output_type": "stream",
          "name": "stdout",
          "text": [
            "Think of a number between 1 and 100, and I'll guess it!\n",
            "Is it 50? (too high / too low / correct): too high\n",
            "Is it 25? (too high / too low / correct): too low\n",
            "Is it 37? (too high / too low / correct): correct\n",
            "Yay! I guessed your number: 37\n"
          ]
        }
      ]
    }
  ]
}