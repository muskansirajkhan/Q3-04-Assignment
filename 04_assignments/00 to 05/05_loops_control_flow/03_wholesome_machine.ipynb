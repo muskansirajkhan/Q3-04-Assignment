{
  "nbformat": 4,
  "nbformat_minor": 0,
  "metadata": {
    "colab": {
      "provenance": []
    },
    "kernelspec": {
      "name": "python3",
      "display_name": "Python 3"
    },
    "language_info": {
      "name": "python"
    }
  },
  "cells": [
    {
      "cell_type": "code",
      "execution_count": 1,
      "metadata": {
        "colab": {
          "base_uri": "https://localhost:8080/"
        },
        "id": "MpIJ4kR2RhJu",
        "outputId": "67c1bcb3-db00-4805-e965-c4a07df87a81"
      },
      "outputs": [
        {
          "output_type": "stream",
          "name": "stdout",
          "text": [
            "Please type the following affirmation:\n",
            "I am capable of doing anything I put my mind to.\n",
            "\n",
            "Hmmm That was not the affirmation.\n",
            "\n",
            "Please type the following affirmation:\n",
            "I am capable of doing anything I put my mind to.\n",
            "nope\n",
            "Hmmm That was not the affirmation.\n",
            "\n",
            "Please type the following affirmation:\n",
            "I am capable of doing anything I put my mind to.\n",
            "I am capable of doing anything I put my mind to.\n",
            "That's right! :)\n"
          ]
        }
      ],
      "source": [
        "def main():\n",
        "    affirmation = \"I am capable of doing anything I put my mind to.\"\n",
        "\n",
        "    while True:\n",
        "        print(f\"Please type the following affirmation:\\n{affirmation}\")\n",
        "        user_input = input()\n",
        "\n",
        "        if user_input == affirmation:\n",
        "            print(\"That's right! :)\")\n",
        "            break\n",
        "        else:\n",
        "            print(\"Hmmm That was not the affirmation.\\n\")\n",
        "\n",
        "if __name__ == \"__main__\":\n",
        "    main()\n"
      ]
    }
  ]
}