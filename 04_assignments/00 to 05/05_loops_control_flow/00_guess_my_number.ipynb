{
  "nbformat": 4,
  "nbformat_minor": 0,
  "metadata": {
    "colab": {
      "provenance": []
    },
    "kernelspec": {
      "name": "python3",
      "display_name": "Python 3"
    },
    "language_info": {
      "name": "python"
    }
  },
  "cells": [
    {
      "cell_type": "code",
      "execution_count": 1,
      "metadata": {
        "colab": {
          "base_uri": "https://localhost:8080/"
        },
        "id": "Lcl55QPoKdjz",
        "outputId": "489813c9-7cd1-444b-e54c-02d33a089b21"
      },
      "outputs": [
        {
          "output_type": "stream",
          "name": "stdout",
          "text": [
            "59\n",
            "I am thinking of a number between 1 and 99...\n",
            "Guess the Number: 4\n",
            "Too Low!\n",
            "Guess again: 90\n",
            "Too High!\n",
            "Guess again: 59\n",
            "Congrats! The number was: 59\n"
          ]
        }
      ],
      "source": [
        "import random\n",
        "\n",
        "def main():\n",
        "\n",
        "  guess_number = random.randint(1, 99)\n",
        "  # print(guess_number)\n",
        "\n",
        "  print(\"I am thinking of a number between 1 and 99...\")\n",
        "\n",
        "  guess = int(input(\"Guess the Number: \"))\n",
        "\n",
        "  while guess != guess_number:\n",
        "    if guess < guess_number:\n",
        "      print(\"Too Low!\")\n",
        "    else:\n",
        "      print(\"Too High!\")\n",
        "    guess = int(input(\"Guess again: \"))\n",
        "\n",
        "  print(f\"Congrats! The number was: {guess_number}\")\n",
        "\n",
        "\n",
        "\n",
        "if __name__ == '__main__':\n",
        "    main()"
      ]
    }
  ]
}