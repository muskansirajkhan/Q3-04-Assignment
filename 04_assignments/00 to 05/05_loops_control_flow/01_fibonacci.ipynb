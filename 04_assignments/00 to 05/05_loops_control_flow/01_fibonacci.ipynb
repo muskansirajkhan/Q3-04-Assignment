{
  "nbformat": 4,
  "nbformat_minor": 0,
  "metadata": {
    "colab": {
      "provenance": []
    },
    "kernelspec": {
      "name": "python3",
      "display_name": "Python 3"
    },
    "language_info": {
      "name": "python"
    }
  },
  "cells": [
    {
      "cell_type": "code",
      "execution_count": 1,
      "metadata": {
        "colab": {
          "base_uri": "https://localhost:8080/"
        },
        "id": "FLftS68KNuus",
        "outputId": "a0f85fa9-3103-41a6-af25-0fde28bf1a7b"
      },
      "outputs": [
        {
          "output_type": "stream",
          "name": "stdout",
          "text": [
            "0 1 1 2 3 5 8 13 21 34 55 89 144 233 377 610 987 1597 2584 4181 6765 "
          ]
        }
      ],
      "source": [
        "MAX_FIB = 10000\n",
        "\n",
        "def main():\n",
        "\n",
        "    a = 0\n",
        "    b = 1\n",
        "\n",
        "    print(a, end=' ')\n",
        "\n",
        "    while b < MAX_FIB:\n",
        "        print(b, end=' ')\n",
        "\n",
        "        a, b = b, a + b\n",
        "\n",
        "if __name__ == \"__main__\":\n",
        "    main()\n"
      ]
    }
  ]
}