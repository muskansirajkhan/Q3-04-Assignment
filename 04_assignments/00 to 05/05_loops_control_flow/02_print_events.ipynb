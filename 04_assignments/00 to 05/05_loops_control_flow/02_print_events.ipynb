{
  "nbformat": 4,
  "nbformat_minor": 0,
  "metadata": {
    "colab": {
      "provenance": []
    },
    "kernelspec": {
      "name": "python3",
      "display_name": "Python 3"
    },
    "language_info": {
      "name": "python"
    }
  },
  "cells": [
    {
      "cell_type": "code",
      "execution_count": 6,
      "metadata": {
        "colab": {
          "base_uri": "https://localhost:8080/"
        },
        "id": "K4pDoC88PErk",
        "outputId": "31196083-897b-40a2-e879-8b17906eece2"
      },
      "outputs": [
        {
          "output_type": "stream",
          "name": "stdout",
          "text": [
            "0 is even\n",
            "2 is even\n",
            "4 is even\n",
            "6 is even\n",
            "8 is even\n",
            "10 is even\n",
            "12 is even\n",
            "14 is even\n",
            "16 is even\n",
            "18 is even\n",
            "20 is even\n",
            "22 is even\n",
            "24 is even\n",
            "26 is even\n",
            "28 is even\n",
            "30 is even\n",
            "32 is even\n",
            "34 is even\n",
            "36 is even\n",
            "38 is even\n"
          ]
        }
      ],
      "source": [
        "def main():\n",
        "\n",
        "  for i in range(40):\n",
        "    if i % 2 == 0:\n",
        "      print(i, \"is even\")\n",
        "\n",
        "if __name__ == '__main__':\n",
        "    main()"
      ]
    }
  ]
}