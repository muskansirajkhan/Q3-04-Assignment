{
  "nbformat": 4,
  "nbformat_minor": 0,
  "metadata": {
    "colab": {
      "provenance": []
    },
    "kernelspec": {
      "name": "python3",
      "display_name": "Python 3"
    },
    "language_info": {
      "name": "python"
    }
  },
  "cells": [
    {
      "cell_type": "markdown",
      "source": [
        "# **Program: dicesimulator**"
      ],
      "metadata": {
        "id": "WIocZafhZYQm"
      }
    },
    {
      "cell_type": "code",
      "source": [
        "import random\n",
        "\n",
        "def roll_dice():\n",
        "    return random.randint(1, 6)\n",
        "\n",
        "def main():\n",
        "    for i in range(1, 4):\n",
        "        dice1 = roll_dice()\n",
        "        dice2 = roll_dice()\n",
        "        print(f'Roll {i}: Dice 1 = {dice1}, Dice 2 = {dice2}')\n",
        "\n",
        "if __name__ == '__main__':\n",
        "    main()  # Calls the main function\n"
      ],
      "metadata": {
        "colab": {
          "base_uri": "https://localhost:8080/"
        },
        "id": "QbJqNtmHZgNn",
        "outputId": "09a9d9f4-cb22-4984-827a-164ab120ff49"
      },
      "execution_count": 3,
      "outputs": [
        {
          "output_type": "stream",
          "name": "stdout",
          "text": [
            "Roll 1: Dice 1 = 6, Dice 2 = 6\n",
            "Roll 2: Dice 1 = 2, Dice 2 = 1\n",
            "Roll 3: Dice 1 = 5, Dice 2 = 2\n"
          ]
        }
      ]
    }
  ]
}