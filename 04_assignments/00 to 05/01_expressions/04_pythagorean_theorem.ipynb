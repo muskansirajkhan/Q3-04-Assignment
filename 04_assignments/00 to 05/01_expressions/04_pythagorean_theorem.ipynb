{
  "nbformat": 4,
  "nbformat_minor": 0,
  "metadata": {
    "colab": {
      "provenance": []
    },
    "kernelspec": {
      "name": "python3",
      "display_name": "Python 3"
    },
    "language_info": {
      "name": "python"
    }
  },
  "cells": [
    {
      "cell_type": "code",
      "execution_count": 12,
      "metadata": {
        "colab": {
          "base_uri": "https://localhost:8080/"
        },
        "id": "2kbFo6VreepA",
        "outputId": "64522828-32ff-4bc8-cd99-969439de5ce3"
      },
      "outputs": [
        {
          "output_type": "stream",
          "name": "stdout",
          "text": [
            "Enter the length of AB: 9\n",
            "Enter the length of AB: 8\n",
            "The length of BC is 12.04\n"
          ]
        }
      ],
      "source": [
        "# Write a program that asks the user for the lengths of the two perpendicular sides of a right triangle and outputs the length of the third side (the hypotenuse) using the Pythagorean theorem!\n",
        "\n",
        "# The Pythagorean theorem, named after the ancient Greek thinker, Pythagoras, is a fundamental relation in geometry.\n",
        "# It states that in a right triangle, the square of the hypotenuse is equal to the sum of the square of the other two sides.\n",
        "\n",
        "# For instance, let's consider a right triangle ABC, with the right angle located at C. According to the Pythagorean theorem:\n",
        "\n",
        "# BC ** 2 = AB ** 2 + AC ** 2\n",
        "\n",
        "# Your code should read in the lengths of the sides AB and AC, and that outputs the length of the hypotenuse (BC).\n",
        "# You will probably find math.sqrt() to be useful.\n",
        "\n",
        "import math\n",
        "\n",
        "def main():\n",
        "  AB = float(input(\"Enter the length of AB: \"))\n",
        "  AC = float(input(\"Enter the length of AB: \"))\n",
        "\n",
        "  BC = round(math.sqrt(AB**2 + AC**2), 2)\n",
        "\n",
        "  print(f\"The length of BC is {BC}\")\n",
        "\n",
        "if __name__ == '__main__':\n",
        "    main()\n"
      ]
    }
  ]
}