{
  "nbformat": 4,
  "nbformat_minor": 0,
  "metadata": {
    "colab": {
      "provenance": []
    },
    "kernelspec": {
      "name": "python3",
      "display_name": "Python 3"
    },
    "language_info": {
      "name": "python"
    }
  },
  "cells": [
    {
      "cell_type": "code",
      "execution_count": 2,
      "metadata": {
        "colab": {
          "base_uri": "https://localhost:8080/"
        },
        "id": "6FcYj91Rt5uF",
        "outputId": "43c0142f-d6ac-4055-cf3a-889ff933fec6"
      },
      "outputs": [
        {
          "output_type": "stream",
          "name": "stdout",
          "text": [
            "There are 31536000 seconds in a year!\n"
          ]
        }
      ],
      "source": [
        "# Use Python to calculate the number of seconds in a year, and tell the user what the result is in\n",
        "# a nice print statement that looks like this (of course the value 5 should be the calculated number instead):\n",
        "\n",
        "days_year = 365\n",
        "hours_day = 24\n",
        "hour_min = 60\n",
        "seconds_in_min = 60\n",
        "\n",
        "def main():\n",
        "  secondes_in_year =days_year * hours_day * hour_min * seconds_in_min\n",
        "  print(f'There are {secondes_in_year} seconds in a year!')\n",
        "\n",
        "if __name__ == '__main__':\n",
        "    main()\n",
        "\n"
      ]
    }
  ]
}