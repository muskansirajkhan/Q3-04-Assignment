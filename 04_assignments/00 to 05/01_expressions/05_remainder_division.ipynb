{
  "nbformat": 4,
  "nbformat_minor": 0,
  "metadata": {
    "colab": {
      "provenance": []
    },
    "kernelspec": {
      "name": "python3",
      "display_name": "Python 3"
    },
    "language_info": {
      "name": "python"
    }
  },
  "cells": [
    {
      "cell_type": "code",
      "execution_count": 10,
      "metadata": {
        "colab": {
          "base_uri": "https://localhost:8080/"
        },
        "id": "1Isow_BzikXj",
        "outputId": "5a59fe89-0d81-44db-a7d6-e6ed8c5e2361"
      },
      "outputs": [
        {
          "output_type": "stream",
          "name": "stdout",
          "text": [
            "Please enter an integer to be divided: 5\n",
            "Please enter an integer to divide by: 1\n",
            "Result: 5.0 , Reminder: 0 \n"
          ]
        }
      ],
      "source": [
        "# Ask the user for two numbers, one at a time, and then print the result of dividing\n",
        "# the first number by the second and also the remainder of the division.\n",
        "\n",
        "def main():\n",
        "  divided_number = input(\"Please enter an integer to be divided: \")\n",
        "  divided_by = input(\"Please enter an integer to divide by: \")\n",
        "\n",
        "  result = int(divided_number) / int(divided_by)\n",
        "  reminder = int(divided_number) % int(divided_by)\n",
        "\n",
        "  print(f\"Result: {result} , Reminder: {reminder} \")\n",
        "\n",
        "if __name__ == '__main__':\n",
        "    main()\n",
        "\n"
      ]
    }
  ]
}