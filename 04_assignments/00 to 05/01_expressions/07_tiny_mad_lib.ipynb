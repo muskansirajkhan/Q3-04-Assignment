{
  "nbformat": 4,
  "nbformat_minor": 0,
  "metadata": {
    "colab": {
      "provenance": []
    },
    "kernelspec": {
      "name": "python3",
      "display_name": "Python 3"
    },
    "language_info": {
      "name": "python"
    }
  },
  "cells": [
    {
      "cell_type": "code",
      "source": [
        "SENTENCE_START = \"Coding is fun! I learned to program and used Python to make my \"\n",
        "\n",
        "def main():\n",
        "  adjective = input(\"Please type an adjective: \")\n",
        "  noun = input(\"Please type a noun: \")\n",
        "  verb = input(\"Please type verb: \")\n",
        "\n",
        "  print(SENTENCE_START, adjective, noun, verb)\n",
        "\n",
        "if __name__ == '__main__':\n",
        "    main()"
      ],
      "metadata": {
        "colab": {
          "base_uri": "https://localhost:8080/"
        },
        "id": "y_veDkiJxMsQ",
        "outputId": "bd98fe92-904f-437f-893d-2053a93a4bb4"
      },
      "execution_count": 1,
      "outputs": [
        {
          "output_type": "stream",
          "name": "stdout",
          "text": [
            "Please type an adjective: tiny\n",
            "Please type a noun: plant\n",
            "Please type verb: fly\n",
            "Coding is fun! I learned to program and used Python to make my  tiny plant fly\n"
          ]
        }
      ]
    }
  ]
}