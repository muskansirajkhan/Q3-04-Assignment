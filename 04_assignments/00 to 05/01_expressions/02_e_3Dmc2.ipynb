{
  "nbformat": 4,
  "nbformat_minor": 0,
  "metadata": {
    "colab": {
      "provenance": []
    },
    "kernelspec": {
      "name": "python3",
      "display_name": "Python 3"
    },
    "language_info": {
      "name": "python"
    }
  },
  "cells": [
    {
      "cell_type": "code",
      "source": [
        "C = 299792458\n",
        "\n",
        "def main():\n",
        "  mass = float(input(\"Enter kilos of mass: \"))\n",
        "\n",
        "  energy = mass * C**2\n",
        "\n",
        "  print(\"\\ne = m * C^2...\")\n",
        "  print(f\"m = {mass} kg\")\n",
        "  print(f\"C = {C} m/s\")\n",
        "  print(f\"{energy} joules of energy!\")\n",
        "\n",
        "\n",
        "if __name__ == '__main__':\n",
        "    main()"
      ],
      "metadata": {
        "colab": {
          "base_uri": "https://localhost:8080/"
        },
        "id": "5V8R7fw1aUaB",
        "outputId": "b686696b-0abf-494e-de93-3d2ed57481f8"
      },
      "execution_count": 2,
      "outputs": [
        {
          "output_type": "stream",
          "name": "stdout",
          "text": [
            "Enter kilos of mass: 200\n",
            "\n",
            "e = m * C^2...\n",
            "m = 200.0 kg\n",
            "C = 299792458 m/s\n",
            "1.7975103574736351e+19 joules of energy!\n"
          ]
        }
      ]
    }
  ]
}