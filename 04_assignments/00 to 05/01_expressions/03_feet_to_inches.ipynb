{
  "nbformat": 4,
  "nbformat_minor": 0,
  "metadata": {
    "colab": {
      "provenance": []
    },
    "kernelspec": {
      "name": "python3",
      "display_name": "Python 3"
    },
    "language_info": {
      "name": "python"
    }
  },
  "cells": [
    {
      "cell_type": "code",
      "execution_count": 3,
      "metadata": {
        "colab": {
          "base_uri": "https://localhost:8080/"
        },
        "id": "rBdLdOg8czxH",
        "outputId": "f125b158-6d4e-459c-aee8-1acbae24e2ae"
      },
      "outputs": [
        {
          "output_type": "stream",
          "name": "stdout",
          "text": [
            "Enter number of feet: 10\n",
            "10.0 feet is 120.0 inches! \n",
            "\n"
          ]
        }
      ],
      "source": [
        "# Converts feet to inches. Feet is an American unit of measurement.\n",
        "# There are 12 inches per foot. Foot is the singular, and feet is the plural.\n",
        "\n",
        "INCHES_IN_FOOT = 12\n",
        "\n",
        "def main():\n",
        "  feet = float(input(\"Enter number of feet: \"))\n",
        "  inches = feet * INCHES_IN_FOOT\n",
        "\n",
        "  print(feet, \"feet is\", inches, \"inches! \")\n",
        "\n",
        "\n",
        "if __name__ == '__main__':\n",
        "    main()"
      ]
    }
  ]
}