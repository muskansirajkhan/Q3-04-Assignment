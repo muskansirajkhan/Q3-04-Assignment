{
  "nbformat": 4,
  "nbformat_minor": 0,
  "metadata": {
    "colab": {
      "provenance": []
    },
    "kernelspec": {
      "name": "python3",
      "display_name": "Python 3"
    },
    "language_info": {
      "name": "python"
    }
  },
  "cells": [
    {
      "cell_type": "code",
      "execution_count": null,
      "metadata": {
        "colab": {
          "base_uri": "https://localhost:8080/"
        },
        "id": "2t_r6shKn-Q-",
        "outputId": "0943610c-0e22-4d48-e653-cf2e6e79b91c"
      },
      "outputs": [
        {
          "output_type": "stream",
          "name": "stdout",
          "text": [
            "Dice1: 6 \n",
            "Dice2: 6 \n",
            "Total: 12\n"
          ]
        }
      ],
      "source": [
        "# Simulate rolling two dice, and prints results of each roll as well as the total.\n",
        "\n",
        "import random\n",
        "\n",
        "def roll_dice():\n",
        "  return random.randint(1, 6)\n",
        "\n",
        "def main():\n",
        "  dice1 = roll_dice()\n",
        "  dice2 = roll_dice()\n",
        "\n",
        "  print(f\"Dice1: {dice1} \")\n",
        "  print(f\"Dice2: {dice2} \")\n",
        "  print(f\"Total: {dice1 + dice2}\")\n",
        "\n",
        "if __name__ == '__main__':\n",
        "    main()\n",
        "\n"
      ]
    }
  ]
}