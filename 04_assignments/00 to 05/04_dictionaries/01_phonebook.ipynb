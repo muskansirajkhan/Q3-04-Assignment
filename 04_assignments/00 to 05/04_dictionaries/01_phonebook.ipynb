{
  "nbformat": 4,
  "nbformat_minor": 0,
  "metadata": {
    "colab": {
      "provenance": []
    },
    "kernelspec": {
      "name": "python3",
      "display_name": "Python 3"
    },
    "language_info": {
      "name": "python"
    }
  },
  "cells": [
    {
      "cell_type": "code",
      "source": [
        "def main():\n",
        "    phonebook = {}\n",
        "\n",
        "    while True:\n",
        "        print(\"\\nPhonebook Menu:\")\n",
        "        print(\"1. Add Contact\")\n",
        "        print(\"2. View Contact\")\n",
        "        print(\"3. Show All Contacts\")\n",
        "        print(\"4. Exit\")\n",
        "\n",
        "        choice = input(\"Choose an option (1-4): \")\n",
        "\n",
        "        if choice == \"1\":\n",
        "            name = input(\"Enter your name: \")\n",
        "            number = input(\"Enter phone number: \")\n",
        "            phonebook[name] = number\n",
        "            print(f\"{name} added to phonebook.\")\n",
        "\n",
        "        elif choice == \"2\":\n",
        "            name = input(\"Enter name to search: \")\n",
        "            if name in phonebook:\n",
        "                print(f\"{name}'s number is {phonebook[name]}\")\n",
        "            else:\n",
        "                print(\"Contact not found.\")\n",
        "\n",
        "        elif choice == \"3\":\n",
        "            if not phonebook:\n",
        "                print(\"Phonebook is empty.\")\n",
        "            else:\n",
        "                print(\"Phonebook contacts:\")\n",
        "                for name, number in phonebook.items():\n",
        "                    print(f\"{name}: {number}\")\n",
        "\n",
        "        elif choice == \"4\":\n",
        "            print(\"Exiting phonebook.\")\n",
        "            break\n",
        "\n",
        "        else:\n",
        "            print(\"Invalid choice. Please try again.\")\n",
        "\n",
        "main()\n"
      ],
      "metadata": {
        "colab": {
          "base_uri": "https://localhost:8080/"
        },
        "id": "Dvx3lbT-3H24",
        "outputId": "a5b9faef-2998-4ac7-83b1-837062d17a6b"
      },
      "execution_count": 6,
      "outputs": [
        {
          "output_type": "stream",
          "name": "stdout",
          "text": [
            "\n",
            "Phonebook Menu:\n",
            "1. Add Contact\n",
            "2. View Contact\n",
            "3. Show All Contacts\n",
            "4. Exit\n",
            "Choose an option (1-4): 1\n",
            "Enter your name: Foqia\n",
            "Enter phone number: 09876546\n",
            "Foqia added to phonebook.\n",
            "\n",
            "Phonebook Menu:\n",
            "1. Add Contact\n",
            "2. View Contact\n",
            "3. Show All Contacts\n",
            "4. Exit\n",
            "Choose an option (1-4): 2\n",
            "Enter name to search: Foqia\n",
            "Foqia's number is 09876546\n",
            "\n",
            "Phonebook Menu:\n",
            "1. Add Contact\n",
            "2. View Contact\n",
            "3. Show All Contacts\n",
            "4. Exit\n",
            "Choose an option (1-4): 3\n",
            "Phonebook contacts:\n",
            "Foqia: 09876546\n",
            "\n",
            "Phonebook Menu:\n",
            "1. Add Contact\n",
            "2. View Contact\n",
            "3. Show All Contacts\n",
            "4. Exit\n",
            "Choose an option (1-4): 4\n",
            "Exiting phonebook.\n"
          ]
        }
      ]
    }
  ]
}