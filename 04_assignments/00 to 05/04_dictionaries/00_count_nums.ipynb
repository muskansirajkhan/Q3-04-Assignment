{
  "nbformat": 4,
  "nbformat_minor": 0,
  "metadata": {
    "colab": {
      "provenance": []
    },
    "kernelspec": {
      "name": "python3",
      "display_name": "Python 3"
    },
    "language_info": {
      "name": "python"
    }
  },
  "cells": [
    {
      "cell_type": "code",
      "execution_count": 7,
      "metadata": {
        "colab": {
          "base_uri": "https://localhost:8080/"
        },
        "id": "bUc-lilV1SqB",
        "outputId": "2f7597e2-1828-4c21-807e-ac25dfca5775"
      },
      "outputs": [
        {
          "output_type": "stream",
          "name": "stdout",
          "text": [
            "Enter a number (or press Enter to finish): 3\n",
            "Enter a number (or press Enter to finish): 3\n",
            "Enter a number (or press Enter to finish): 3\n",
            "Enter a number (or press Enter to finish): 2\n",
            "Enter a number (or press Enter to finish): 1\n",
            "Enter a number (or press Enter to finish): 4\n",
            "Enter a number (or press Enter to finish): \n",
            "Number counts:\n",
            "3: 3\n",
            "2: 1\n",
            "1: 1\n",
            "4: 1\n"
          ]
        }
      ],
      "source": [
        "def main():\n",
        "    number_counts = {}\n",
        "\n",
        "    while True:\n",
        "        user_input = input(\"Enter a number (or press Enter to finish): \")\n",
        "\n",
        "        if user_input == \"\":\n",
        "            break\n",
        "\n",
        "        number = int(user_input)\n",
        "\n",
        "        if number in number_counts:\n",
        "            number_counts[number] += 1\n",
        "        else:\n",
        "            number_counts[number] = 1\n",
        "\n",
        "    print(\"Number counts:\")\n",
        "    for number, count in number_counts.items():\n",
        "        print(f\"{number}: {count}\")\n",
        "\n",
        "# Call the main function\n",
        "main()\n"
      ]
    }
  ]
}