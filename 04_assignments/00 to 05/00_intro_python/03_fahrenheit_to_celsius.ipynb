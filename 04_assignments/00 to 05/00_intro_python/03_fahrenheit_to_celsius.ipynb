{
  "nbformat": 4,
  "nbformat_minor": 0,
  "metadata": {
    "colab": {
      "provenance": []
    },
    "kernelspec": {
      "name": "python3",
      "display_name": "Python 3"
    },
    "language_info": {
      "name": "python"
    }
  },
  "cells": [
    {
      "cell_type": "code",
      "execution_count": 11,
      "metadata": {
        "colab": {
          "base_uri": "https://localhost:8080/"
        },
        "id": "9-nCiuMWuTDd",
        "outputId": "1d91a017-081b-4020-a288-a3f655391745"
      },
      "outputs": [
        {
          "output_type": "stream",
          "name": "stdout",
          "text": [
            "Enter temperature in Fahrenheit: 55\n",
            "Temperature: 55.0F = 12.78C\n"
          ]
        }
      ],
      "source": [
        "# Write a program which prompts the user for a temperature in Fahrenheit\n",
        "#  (this can be a number with decimal places!) and outputs the temperature converted to Celsius.\n",
        "\n",
        "# The Celsius scale is widely used to measure temperature, but places still use Fahrenheit.\n",
        "# Fahrenheit is another unit for temperature, but the scale is different from Celsius -- for example, 0 degrees Celsius is 32 degrees Fahrenheit!\n",
        "\n",
        "\n",
        "# Starter Code\n",
        "\n",
        "fahrenheit = float(input(\"Enter temperature in Fahrenheit: \"))\n",
        "celsius = round((fahrenheit - 32)) * 5/9\n",
        "\n",
        "print(f\"Temperature: {fahrenheit}F = {celsius:.2f}C\")\n"
      ]
    }
  ]
}