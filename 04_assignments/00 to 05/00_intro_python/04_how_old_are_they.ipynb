{
  "nbformat": 4,
  "nbformat_minor": 0,
  "metadata": {
    "colab": {
      "provenance": []
    },
    "kernelspec": {
      "name": "python3",
      "display_name": "Python 3"
    },
    "language_info": {
      "name": "python"
    }
  },
  "cells": [
    {
      "cell_type": "code",
      "execution_count": 5,
      "metadata": {
        "colab": {
          "base_uri": "https://localhost:8080/"
        },
        "id": "WkqxgC9LXH4V",
        "outputId": "5b685469-ce1b-41fc-e074-b32b58110787"
      },
      "outputs": [
        {
          "output_type": "stream",
          "name": "stdout",
          "text": [
            "Anton is 21 years old.\n",
            "Beth is 27 years old.\n",
            "Chen is 7 years old.\n",
            "Drew is 28 years old.\n",
            "Ethan is 7 years old.\n"
          ]
        }
      ],
      "source": [
        "# Write a program to solve this age-related riddle!\n",
        "\n",
        "# Anton, Beth, Chen, Drew, and Ethan are all friends. Their ages are as follows:\n",
        "\n",
        "# Anton is 21 years old.\n",
        "\n",
        "# Beth is 6 years older than Anton.\n",
        "\n",
        "# Chen is 20 years older than Beth.\n",
        "\n",
        "# Drew is as old as Chen's age plus Anton's age.\n",
        "\n",
        "# Ethan is the same age as Chen.\n",
        "\n",
        "# Your code should store each person's age to a variable and print their names and ages at the end.\n",
        "\n",
        "def main():\n",
        "  anton = 21\n",
        "  beth = anton + 6\n",
        "  chen = beth + 20\n",
        "  drew = chen + anton\n",
        "  ethan = chen\n",
        "\n",
        "  print(f\"Anton is {anton} years old.\")\n",
        "  print(f\"Beth is {beth} years old.\")\n",
        "  print(f\"Chen is {chen} years old.\")\n",
        "  print(f\"Drew is {drew} years old.\")\n",
        "  print(f\"Ethan is {ethan} years old.\")\n",
        "\n",
        "\n",
        "if __name__ == '__main__':\n",
        "    main()\n",
        "\n"
      ]
    }
  ]
}