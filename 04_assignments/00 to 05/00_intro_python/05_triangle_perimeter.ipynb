{
  "nbformat": 4,
  "nbformat_minor": 0,
  "metadata": {
    "colab": {
      "provenance": []
    },
    "kernelspec": {
      "name": "python3",
      "display_name": "Python 3"
    },
    "language_info": {
      "name": "python"
    }
  },
  "cells": [
    {
      "cell_type": "code",
      "execution_count": 3,
      "metadata": {
        "colab": {
          "base_uri": "https://localhost:8080/"
        },
        "id": "KyYboPgvdyye",
        "outputId": "784298cd-a30e-4e81-9072-c59af954b5bc"
      },
      "outputs": [
        {
          "output_type": "stream",
          "name": "stdout",
          "text": [
            "What is the length of side 1? 3\n",
            "What is the length of side 2? 4\n",
            "What is the length of side 3? 5.5\n",
            "The perimeter of the triangle is 12.5\n"
          ]
        }
      ],
      "source": [
        "# Prompt the user to enter the lengths of each side of a triangle and then calculate and print the\n",
        "# perimeter of the triangle (the sum of all of the side lengths).\n",
        "\n",
        "# Here's a sample run of the program (user input is in bold italics):\n",
        "\n",
        "# What is the length of side 1? 3\n",
        "\n",
        "# What is the length of side 2? 4\n",
        "\n",
        "# What is the length of side 3? 5.5\n",
        "\n",
        "# The perimeter of the triangle is 12.5\n",
        "\n",
        "\n",
        "def main():\n",
        "  side1 = float(input(\"What is the length of side 1? \"))\n",
        "  side2 = float(input(\"What is the length of side 2? \"))\n",
        "  side3 = float(input(\"What is the length of side 3? \"))\n",
        "\n",
        "  result = side1 + side2 + side3\n",
        "\n",
        "  print(\"The perimeter of the triangle is\", result)\n",
        "\n",
        "if __name__ == '__main__':\n",
        "    main()\n"
      ]
    }
  ]
}