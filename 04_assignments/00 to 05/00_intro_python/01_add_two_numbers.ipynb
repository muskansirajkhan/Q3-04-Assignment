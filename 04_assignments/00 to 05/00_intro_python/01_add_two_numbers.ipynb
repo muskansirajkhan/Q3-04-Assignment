{
  "nbformat": 4,
  "nbformat_minor": 0,
  "metadata": {
    "colab": {
      "provenance": []
    },
    "kernelspec": {
      "name": "python3",
      "display_name": "Python 3"
    },
    "language_info": {
      "name": "python"
    }
  },
  "cells": [
    {
      "cell_type": "code",
      "source": [
        "# Write a Python program that takes two integer inputs from the user and calculates their sum. The program should perform the following tasks:\n",
        "\n",
        "# Prompt the user to enter the first number.\n",
        "\n",
        "# Read the input and convert it to an integer.\n",
        "\n",
        "# Prompt the user to enter the second number.\n",
        "\n",
        "# Read the input and convert it to an integer.\n",
        "\n",
        "# Calculate the sum of the two numbers.\n",
        "\n",
        "# Print the total sum with an appropriate message.\n",
        "\n",
        "num1 = int(input(\"Enter first number: \"))\n",
        "num2 = int(input(\"Enter second number: \"))\n",
        "result = num1 + num2\n",
        "print(f\"Sum of {num1} + {num2} = {result}\")\n"
      ],
      "metadata": {
        "colab": {
          "base_uri": "https://localhost:8080/"
        },
        "id": "JdW72TU5q5IB",
        "outputId": "89b391c6-7f80-46ad-ebf3-c736a4381a81"
      },
      "execution_count": 1,
      "outputs": [
        {
          "output_type": "stream",
          "name": "stdout",
          "text": [
            "Enter first number: 2\n",
            "Enter second number: 3\n",
            "Sum of 2 + 3 = 5\n"
          ]
        }
      ]
    }
  ]
}