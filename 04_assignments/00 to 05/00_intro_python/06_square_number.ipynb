{
  "nbformat": 4,
  "nbformat_minor": 0,
  "metadata": {
    "colab": {
      "provenance": []
    },
    "kernelspec": {
      "name": "python3",
      "display_name": "Python 3"
    },
    "language_info": {
      "name": "python"
    }
  },
  "cells": [
    {
      "cell_type": "code",
      "execution_count": 4,
      "metadata": {
        "colab": {
          "base_uri": "https://localhost:8080/"
        },
        "id": "HLR0pv_Nm7lA",
        "outputId": "df654d5a-820e-46df-887a-9ca859abbc0e"
      },
      "outputs": [
        {
          "output_type": "stream",
          "name": "stdout",
          "text": [
            "Type a number to see its square: 2\n",
            "2.0 square is 4.0\n"
          ]
        }
      ],
      "source": [
        "# Ask the user for a number and print its square (the product of the number times itself).\n",
        "\n",
        "# Here's a sample run of the program (user input is in bold italics):\n",
        "\n",
        "# Type a number to see its square: 4\n",
        "\n",
        "# 4.0 squared is 16.0\n",
        "\n",
        "def main():\n",
        "  number = float(input(\"Type a number to see its square: \"))\n",
        "  square = pow(number, 2)\n",
        "\n",
        "  print(f\"{number} square is {square}\")\n",
        "\n",
        "\n",
        "if __name__ == '__main__':\n",
        "    main()\n",
        "\n"
      ]
    }
  ]
}