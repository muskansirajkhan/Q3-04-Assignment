{
  "nbformat": 4,
  "nbformat_minor": 0,
  "metadata": {
    "colab": {
      "provenance": []
    },
    "kernelspec": {
      "name": "python3",
      "display_name": "Python 3"
    },
    "language_info": {
      "name": "python"
    }
  },
  "cells": [
    {
      "cell_type": "code",
      "execution_count": 2,
      "metadata": {
        "colab": {
          "base_uri": "https://localhost:8080/"
        },
        "id": "bx57kkIgQoGc",
        "outputId": "737430ae-d5d1-4690-ade3-1cebd7e14975"
      },
      "outputs": [
        {
          "output_type": "stream",
          "name": "stdout",
          "text": [
            "Original List: ['apple', 'banana', 'cherry', 'orange']\n",
            "Removed Item: orange\n",
            "Modified List: ['apple', 'banana', 'cherry']\n"
          ]
        }
      ],
      "source": [
        "max_length = 3\n",
        "\n",
        "def shorten(lst):\n",
        "  while len(lst) > max_length:\n",
        "    removed_item = lst.pop()\n",
        "    print(f\"Removed Item: {removed_item}\")\n",
        "\n",
        "def main():\n",
        "      my_list = [\"apple\", \"banana\", \"cherry\", \"orange\"]\n",
        "      print(f\"Original List: {my_list}\")\n",
        "      shorten(my_list)\n",
        "\n",
        "      print(f\"Modified List: {my_list}\")\n",
        "\n",
        "if __name__ == '__main__':\n",
        "    main()"
      ]
    }
  ]
}