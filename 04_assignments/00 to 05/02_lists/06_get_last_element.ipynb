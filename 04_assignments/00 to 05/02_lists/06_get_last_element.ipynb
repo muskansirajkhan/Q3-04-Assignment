{
  "nbformat": 4,
  "nbformat_minor": 0,
  "metadata": {
    "colab": {
      "provenance": []
    },
    "kernelspec": {
      "name": "python3",
      "display_name": "Python 3"
    },
    "language_info": {
      "name": "python"
    }
  },
  "cells": [
    {
      "cell_type": "markdown",
      "source": [
        "### Fill out the function get_last_element(lst) which takes in a list lst as a parameter and prints the last element in the list. The list is guaranteed to be non-empty, but there are no guarantees on its length."
      ],
      "metadata": {
        "id": "wmPAo2fWH0ix"
      }
    },
    {
      "cell_type": "code",
      "source": [
        "def get_last_element():\n",
        "  last_element = my_list[-1]\n",
        "  print(last_element)\n",
        "\n",
        "\n",
        "\n",
        "my_list = [\"apple\", \"grapes\", \"orange\", \"mango\"]\n",
        "\n",
        "get_last_element()\n",
        "\n",
        "\n"
      ],
      "metadata": {
        "colab": {
          "base_uri": "https://localhost:8080/"
        },
        "id": "jovBiPfOIEf4",
        "outputId": "e22a9788-1000-4911-9d34-38a65d7ac3a6"
      },
      "execution_count": 13,
      "outputs": [
        {
          "output_type": "stream",
          "name": "stdout",
          "text": [
            "mango\n"
          ]
        }
      ]
    }
  ]
}