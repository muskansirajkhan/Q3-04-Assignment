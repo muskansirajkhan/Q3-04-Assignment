{
  "nbformat": 4,
  "nbformat_minor": 0,
  "metadata": {
    "colab": {
      "provenance": []
    },
    "kernelspec": {
      "name": "python3",
      "display_name": "Python 3"
    },
    "language_info": {
      "name": "python"
    }
  },
  "cells": [
    {
      "cell_type": "code",
      "execution_count": 4,
      "metadata": {
        "colab": {
          "base_uri": "https://localhost:8080/"
        },
        "id": "nbFWffsEEJwo",
        "outputId": "e8209830-39ac-4f1f-ab73-9476fd40542b"
      },
      "outputs": [
        {
          "output_type": "stream",
          "name": "stdout",
          "text": [
            "Enter a message to copy: Hello!\n",
            "List after: ['Hello!', 'Hello!', 'Hello!']\n"
          ]
        }
      ],
      "source": [
        "def copies(my_list, data):\n",
        "    for i in range(3):\n",
        "        my_list.append(data)\n",
        "\n",
        "\n",
        "\n",
        "def main():\n",
        "  message = input(\"Enter a message to copy: \")\n",
        "\n",
        "  my_list = []\n",
        "\n",
        "  copies(my_list, message)\n",
        "\n",
        "  print(\"List:\", my_list)\n",
        "\n",
        "main()\n",
        "\n"
      ]
    }
  ]
}