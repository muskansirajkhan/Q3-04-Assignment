{
  "nbformat": 4,
  "nbformat_minor": 0,
  "metadata": {
    "colab": {
      "provenance": []
    },
    "kernelspec": {
      "name": "python3",
      "display_name": "Python 3"
    },
    "language_info": {
      "name": "python"
    }
  },
  "cells": [
    {
      "cell_type": "markdown",
      "source": [
        "# **Write a function that takes a list of numbers and returns the sum of those numbers.**"
      ],
      "metadata": {
        "id": "ONBymN9m_F0I"
      }
    },
    {
      "cell_type": "code",
      "source": [
        "def list_of_numbers(numbers):\n",
        "    total = 0\n",
        "    for num in numbers:\n",
        "        total += num\n",
        "    return total\n",
        "\n",
        "number = [1, 2, 3, 0, 0]\n",
        "print(list_of_numbers(number))\n"
      ],
      "metadata": {
        "colab": {
          "base_uri": "https://localhost:8080/"
        },
        "id": "91KEABse_MTO",
        "outputId": "2b19fd39-210b-4bcf-953e-5f8698fce9b5"
      },
      "execution_count": 9,
      "outputs": [
        {
          "output_type": "stream",
          "name": "stdout",
          "text": [
            "6\n"
          ]
        }
      ]
    }
  ]
}