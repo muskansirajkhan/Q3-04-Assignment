{
  "nbformat": 4,
  "nbformat_minor": 0,
  "metadata": {
    "colab": {
      "provenance": []
    },
    "kernelspec": {
      "name": "python3",
      "display_name": "Python 3"
    },
    "language_info": {
      "name": "python"
    }
  },
  "cells": [
    {
      "cell_type": "markdown",
      "source": [
        "# **Write a program that doubles each element in a list of numbers.**"
      ],
      "metadata": {
        "id": "pmVJ9IzaBvPs"
      }
    },
    {
      "cell_type": "code",
      "source": [
        "def main():\n",
        "  number_list = [1, 2, 3, 4, 5]\n",
        "\n",
        "  for i in range(len(number_list)):\n",
        "    number_list[i] = number_list[i] * 2\n",
        "\n",
        "  print(number_list)\n",
        "\n",
        "\n",
        "\n",
        "\n",
        "if __name__ == '__main__':\n",
        "    main()"
      ],
      "metadata": {
        "colab": {
          "base_uri": "https://localhost:8080/"
        },
        "id": "GxVypfk_B1_7",
        "outputId": "fd1984a8-a3ac-481d-f3f8-9c5705a2d3f1"
      },
      "execution_count": 1,
      "outputs": [
        {
          "output_type": "stream",
          "name": "stdout",
          "text": [
            "[2, 4, 6, 8, 10]\n"
          ]
        }
      ]
    }
  ]
}