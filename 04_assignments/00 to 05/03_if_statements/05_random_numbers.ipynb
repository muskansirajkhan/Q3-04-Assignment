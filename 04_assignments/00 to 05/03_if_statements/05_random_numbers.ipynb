{
  "nbformat": 4,
  "nbformat_minor": 0,
  "metadata": {
    "colab": {
      "provenance": []
    },
    "kernelspec": {
      "name": "python3",
      "display_name": "Python 3"
    },
    "language_info": {
      "name": "python"
    }
  },
  "cells": [
    {
      "cell_type": "markdown",
      "source": [
        "**Print 10 random numbers in the range 1 to 100.**"
      ],
      "metadata": {
        "id": "5-u6wGkAr5rJ"
      }
    },
    {
      "cell_type": "code",
      "source": [
        "import random\n",
        "\n",
        "def main():\n",
        "    for _ in range(10):\n",
        "        value = random.randint(1, 100)\n",
        "        print(value, end=' ')\n",
        "    print()\n",
        "\n",
        "if __name__ == '__main__':\n",
        "    main()\n"
      ],
      "metadata": {
        "colab": {
          "base_uri": "https://localhost:8080/"
        },
        "id": "F7HDtGV2r9T6",
        "outputId": "eafb029a-47ca-46c8-ef54-c69b1ff7be5a"
      },
      "execution_count": 2,
      "outputs": [
        {
          "output_type": "stream",
          "name": "stdout",
          "text": [
            "86 64 40 67 74 47 60 97 66 70 \n"
          ]
        }
      ]
    }
  ]
}