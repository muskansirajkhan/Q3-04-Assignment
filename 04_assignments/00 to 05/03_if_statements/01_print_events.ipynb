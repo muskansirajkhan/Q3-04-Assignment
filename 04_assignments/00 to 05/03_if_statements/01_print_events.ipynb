{
  "nbformat": 4,
  "nbformat_minor": 0,
  "metadata": {
    "colab": {
      "provenance": []
    },
    "kernelspec": {
      "name": "python3",
      "display_name": "Python 3"
    },
    "language_info": {
      "name": "python"
    }
  },
  "cells": [
    {
      "cell_type": "markdown",
      "source": [
        "**Write a program that prints the first 20 even numbers. There are several correct approaches, but they all use a loop of some sort. Do no write twenty print statements**"
      ],
      "metadata": {
        "id": "r65IwBRyKXZ-"
      }
    },
    {
      "cell_type": "code",
      "source": [
        "def main():\n",
        "    count = 0\n",
        "    num = 2\n",
        "\n",
        "    while count < 20:\n",
        "        if num % 2 == 0:\n",
        "            print(num)\n",
        "            count += 1\n",
        "        num += 1\n",
        "\n",
        "if __name__ == '__main__':\n",
        "    main()\n"
      ],
      "metadata": {
        "colab": {
          "base_uri": "https://localhost:8080/"
        },
        "id": "mmTXqjU0KcUR",
        "outputId": "15febf27-9102-4c8a-99e9-08902aa05e4f"
      },
      "execution_count": 7,
      "outputs": [
        {
          "output_type": "stream",
          "name": "stdout",
          "text": [
            "2\n",
            "4\n",
            "6\n",
            "8\n",
            "10\n",
            "12\n",
            "14\n",
            "16\n",
            "18\n",
            "20\n",
            "22\n",
            "24\n",
            "26\n",
            "28\n",
            "30\n",
            "32\n",
            "34\n",
            "36\n",
            "38\n",
            "40\n"
          ]
        }
      ]
    }
  ]
}