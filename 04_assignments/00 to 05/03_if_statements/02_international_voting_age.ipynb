{
  "nbformat": 4,
  "nbformat_minor": 0,
  "metadata": {
    "colab": {
      "provenance": []
    },
    "kernelspec": {
      "name": "python3",
      "display_name": "Python 3"
    },
    "language_info": {
      "name": "python"
    }
  },
  "cells": [
    {
      "cell_type": "markdown",
      "source": [
        "**Write a program which asks a user for their age and lets them know if they can or can't vote in the following three fictional countries.**"
      ],
      "metadata": {
        "id": "6Dl6HRt7jFgx"
      }
    },
    {
      "cell_type": "code",
      "source": [
        "Peturksbouipo = 16\n",
        "Stanlau = 25\n",
        "Mayengua = 48\n",
        "\n",
        "def main():\n",
        "    age = int(input(\"How old are you? \"))\n",
        "\n",
        "    if age >= Mayengua:\n",
        "        print(\"You can vote in all three: Peturksbouipo, Stanlau, and Mayengua.\")\n",
        "    elif age >= Stanlau:\n",
        "        print(\"You can vote in Peturksbouipo and Stanlau.\")\n",
        "    elif age >= Peturksbouipo:\n",
        "        print(\"You can vote in Peturksbouipo only.\")\n",
        "    else:\n",
        "        print(\"You are not eligible to vote in any of the three regions.\")\n",
        "\n",
        "if __name__ == '__main__':\n",
        "    main()\n"
      ],
      "metadata": {
        "colab": {
          "base_uri": "https://localhost:8080/"
        },
        "id": "8YEsnSQ6jOLh",
        "outputId": "b2875dde-cfd1-452f-f5ed-58959e7f75ab"
      },
      "execution_count": 9,
      "outputs": [
        {
          "output_type": "stream",
          "name": "stdout",
          "text": [
            "How old are you? 20\n",
            "You can vote in Peturksbouipo only.\n"
          ]
        }
      ]
    }
  ]
}